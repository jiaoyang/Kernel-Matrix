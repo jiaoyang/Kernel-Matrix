{
 "cells": [
  {
   "cell_type": "markdown",
   "metadata": {},
   "source": [
    "# Random matrix with correlated entries\n",
    "We consider the following random matrix:\n",
    "Let $x_1, x_2, \\cdots, x_n\\in \\mathbb R^d$ be i.i.d. copies of random Gaussian vector $\\mathcal N(0, I_d)$. We denote $$\n",
    "x\\odot y=\\rm{vec}[x\\otimes y]\\in \\mathbb R^{d\\times d},\n",
    "$$\n",
    "with the $(d*(i-1)+j-1)$-th entry given by $x_iy_j$. \n",
    "\n",
    "We denote $X^{(2)}$ the random $n\\times d^2$ matrix, with $i$-th row given by $x_i\\odot x_i$. More generally, we can consider the matrix $X^{(k)}$ the random $n\\times d^k$ matrix, with $i$-th row given by \n",
    "$x_i \\odot x_i\\odot\\cdots \\odot x_i\\in \\mathbb R^{d^k}$. Prove that if $d^k\\gg n$ then $X^{(k)}$ is invertible."
   ]
  },
  {
   "cell_type": "code",
   "execution_count": 55,
   "metadata": {
    "scrolled": true
   },
   "outputs": [
    {
     "name": "stdout",
     "output_type": "stream",
     "text": [
      "5.386901915449406\n"
     ]
    },
    {
     "data": {
      "image/png": "[encoded data removed]",
      "text/plain": [
       "<Figure size 432x288 with 1 Axes>"
      ]
     },
     "metadata": {
      "needs_background": "light"
     },
     "output_type": "display_data"
    }
   ],
   "source": [
    "import numpy as np\n",
    "from matplotlib import pyplot as plt\n",
    "n=1000\n",
    "d=50\n",
    "X2=np.zeros((n, d*d))\n",
    "for i in range(n):\n",
    "    x=np.random.normal(0,1,d)\n",
    "    y=np.outer(x,x).flatten()\n",
    "    X2[i,:]=y\n",
    "\n",
    "u,sv,vt=np.linalg.svd(X2)\n",
    "print(sv[-1])\n",
    "plt.hist(sv, 20, density=True)\n",
    "plt.show() "
   ]
  },
  {
   "cell_type": "code",
   "execution_count": 34,
   "metadata": {},
   "outputs": [
    {
     "name": "stdout",
     "output_type": "stream",
     "text": [
      "0.11481440852789705\n"
     ]
    },
    {
     "data": {
      "image/png": "[encoded data removed]",
      "text/plain": [
       "<Figure size 432x288 with 1 Axes>"
      ]
     },
     "metadata": {
      "needs_background": "light"
     },
     "output_type": "display_data"
    }
   ],
   "source": [
    "import numpy as np\n",
    "from matplotlib import pyplot as plt\n",
    "n=1000\n",
    "d=50\n",
    "X2=np.zeros((n, d*d))\n",
    "for i in range(n):\n",
    "    x=np.random.normal(0,1,d)\n",
    "    x=x/np.linalg.norm(x)\n",
    "    y=np.outer(x,x).flatten()\n",
    "    X2[i,:]=y\n",
    "\n",
    "u,sv,vt=np.linalg.svd(X2)\n",
    "print(sv[-1])\n",
    "plt.hist(sv, 20, density=True)\n",
    "plt.show() "
   ]
  },
  {
   "cell_type": "markdown",
   "metadata": {},
   "source": [
    "**more components case**\n",
    "\n",
    "We consider random matrix with three parts $n=d^3$\n",
    "    \\begin{align}\n",
    "    X^{(1)}+ X^{(2)}+ X^{(4)}\n",
    "    \\end{align}\n",
    "    "
   ]
  },
  {
   "cell_type": "code",
   "execution_count": null,
   "metadata": {},
   "outputs": [],
   "source": []
  },
  {
   "cell_type": "code",
   "execution_count": 89,
   "metadata": {},
   "outputs": [
    {
     "data": {
      "image/png": "[encoded data removed]",
      "text/plain": [
       "<Figure size 432x288 with 1 Axes>"
      ]
     },
     "metadata": {
      "needs_background": "light"
     },
     "output_type": "display_data"
    }
   ],
   "source": [
    "import numpy as np\n",
    "from matplotlib import pyplot as plt\n",
    "l=3\n",
    "d=5\n",
    "sqd=np.sqrt(d)\n",
    "n=d**l\n",
    "\n",
    "X1=np.zeros((n, d))\n",
    "X2=np.zeros((n, d*d))\n",
    "X3=np.zeros((n, d*d*d))\n",
    "X4=np.zeros((n, d*d*d*d))\n",
    "\n",
    "for i in range(n):\n",
    "    x=np.random.normal(0,1,d)\n",
    "    y1=x\n",
    "    y2=np.outer(x,x).flatten()\n",
    "    y3=np.outer(y2,x).flatten()\n",
    "    y4=np.outer(y2,y2).flatten()\n",
    "    X1[i,:]=y1\n",
    "    X2[i,:]=y2\n",
    "    X3[i,:]=y3\n",
    "    X4[i,:]=y4\n",
    "\n",
    "X=(np.matmul(X1, X1.transpose())/sqd+np.matmul(X2, X2.transpose())/(sqd**2)\n",
    "   +np.matmul(X3, X3.transpose())/(sqd**3)++np.matmul(X4, X4.transpose())/(sqd**4))/np.sqrt(n)\n",
    "\n",
    "for i in range(n):\n",
    "    X[i,i]=0\n",
    "\n",
    "eig=np.linalg.eigvalsh(X)\n",
    "plt.hist(eig, 20, density=True)\n",
    "plt.show() \n"
   ]
  },
  {
   "cell_type": "markdown",
   "metadata": {},
   "source": [
    "more components case\n",
    "\n",
    "We consider random matrix with three parts  $n=d^2$\n",
    " \n",
    "𝑋(1)+𝑋(2)"
   ]
  },
  {
   "cell_type": "code",
   "execution_count": 90,
   "metadata": {},
   "outputs": [
    {
     "data": {
      "image/png": "[encoded data removed]",
      "text/plain": [
       "<Figure size 432x288 with 1 Axes>"
      ]
     },
     "metadata": {
      "needs_background": "light"
     },
     "output_type": "display_data"
    }
   ],
   "source": [
    "import numpy as np\n",
    "from matplotlib import pyplot as plt\n",
    "l=2\n",
    "d=30\n",
    "sqd=np.sqrt(d)\n",
    "n=d**l\n",
    "\n",
    "X1=np.zeros((n, d))\n",
    "X2=np.zeros((n, d*d))\n",
    "\n",
    "for i in range(n):\n",
    "    x=np.random.normal(0,1,d)\n",
    "    y1=x\n",
    "    y2=np.outer(x,x).flatten()\n",
    "    X1[i,:]=y1\n",
    "    X2[i,:]=y2\n",
    "\n",
    "\n",
    "#X=(np.matmul(X1, X1.transpose())/sqd+np.matmul(X2, X2.transpose())/(sqd**2)\n",
    "#   +np.matmul(X3, X3.transpose())/(sqd**3)++np.matmul(X4, X4.transpose())/(sqd**4))/np.sqrt(n)\n",
    "X=np.matmul(X1, X1.transpose())/(sqd*n)+np.matmul(X2, X2.transpose())/((sqd**2)*n)\n",
    "#X=np.matmul(X4, X4.transpose())/(sqd**4)\n",
    "#for i in range(n):\n",
    "#    X[i,i]=0\n",
    "\n",
    "eig=np.linalg.eigvalsh(X)\n",
    "plt.hist(eig, 20, density=True)\n",
    "plt.show() \n"
   ]
  },
  {
   "cell_type": "markdown",
   "metadata": {},
   "source": [
    "**Singular Value of Neural Tangent Kernel**\n",
    "\n",
    "We consider the Neural Tangent Kernel of one-hidden layer neural network\n",
    "$$\n",
    "f(x,\\theta)=\\sum_{i=1}^m \\sigma(w_i x).\n",
    "$$\n",
    "where $m$ is the number of hidden nodes, the input $x\\in \\mathbb R^d$, and $\\theta=(w_1, w_2,\\cdots, w_m)$. \n",
    "\n",
    "The derivative with respect to $w_i$ is given by\n",
    "$$\n",
    "\\partial_{w_i}f(x,\\theta)=\\sigma'(w_i x)x\n",
    "$$\n",
    "The Neural Tangent Kernel is given by\n",
    "$$\n",
    "K(x,x')=\\sum_{i=1}^m \\sigma'(w_i x)\\sigma'(w_i x')\\langle x, x'\\rangle.\n",
    "$$\n",
    "\n",
    "To study the smallest eigenvalue of $K$, we can instead studying the smallest singular value of \n",
    "$$\n",
    "V=[\\sigma'(w_j x_i)x_i^\\top]_{1\\leq i\\leq m, 1\\leq j\\leq n}.\n",
    "$$\n",
    "Prove that if $w_i,x_i\\in \\mathbb R^d$ are i.i.d. Gaussian vector, and $md\\gg n$, then $K$ is invertible. "
   ]
  },
  {
   "cell_type": "markdown",
   "metadata": {},
   "source": []
  },
  {
   "cell_type": "code",
   "execution_count": null,
   "metadata": {},
   "outputs": [],
   "source": []
  }
 ],
 "metadata": {
  "kernelspec": {
   "display_name": "Python 3",
   "language": "python",
   "name": "python3"
  },
  "language_info": {
   "codemirror_mode": {
    "name": "ipython",
    "version": 3
   },
   "file_extension": ".py",
   "mimetype": "text/x-python",
   "name": "python",
   "nbconvert_exporter": "python",
   "pygments_lexer": "ipython3",
   "version": "3.7.6"
  }
 },
 "nbformat": 4,
 "nbformat_minor": 4
}
